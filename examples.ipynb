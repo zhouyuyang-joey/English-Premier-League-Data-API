{
 "cells": [
  {
   "cell_type": "markdown",
   "metadata": {},
   "source": [
    "# Examples\n",
    "\n",
    "Here are some simple examples. We will need Jupyter Notebook to run this."
   ]
  },
  {
   "cell_type": "markdown",
   "metadata": {},
   "source": [
    "```\n",
    "pip install ipython jupyter\n",
    "```"
   ]
  },
  {
   "cell_type": "markdown",
   "metadata": {},
   "source": [
    "## Installing the libraries needed\n",
    "\n",
    "Now please install the libraries that we need for this, they are listed in the file [requirements.txt](requirements.txt).\n",
    "\n",
    "To do that run the code in the following cell:"
   ]
  },
  {
   "cell_type": "code",
   "execution_count": 1,
   "metadata": {},
   "outputs": [
    {
     "name": "stdout",
     "output_type": "stream",
     "text": [
      "epltest\n"
     ]
    }
   ],
   "source": [
    "# Make sure you're in the right environment\n",
    "import os\n",
    "print(os.environ['CONDA_DEFAULT_ENV'])"
   ]
  },
  {
   "cell_type": "code",
   "execution_count": null,
   "metadata": {},
   "outputs": [],
   "source": [
    "# %pip install eplda"
   ]
  },
  {
   "cell_type": "code",
   "execution_count": null,
   "metadata": {},
   "outputs": [],
   "source": [
    "# If something doesn't work right, please install the dependencies manually.\n",
    "# %pip install -r requirements.txt"
   ]
  },
  {
   "cell_type": "markdown",
   "metadata": {},
   "source": [
    "## Examples"
   ]
  },
  {
   "cell_type": "code",
   "execution_count": 2,
   "metadata": {},
   "outputs": [],
   "source": [
    "# Import libraries\n",
    "import pandas as pd\n",
    "from eplda.api import EPLAPI"
   ]
  },
  {
   "cell_type": "markdown",
   "metadata": {},
   "source": [
    "In order to use most of the functions, it is very important to get the season id. We can get the it by passing the specified season label into ``get_season_id()``. Let's take the 2024/25 season as an example. \n",
    "\n",
    "(This notebook was being written before the season was over. Don't be surprised if you get different results when you re-run it.)"
   ]
  },
  {
   "cell_type": "code",
   "execution_count": 3,
   "metadata": {},
   "outputs": [
    {
     "data": {
      "text/plain": [
       "'719'"
      ]
     },
     "execution_count": 3,
     "metadata": {},
     "output_type": "execute_result"
    }
   ],
   "source": [
    "epl = EPLAPI()\n",
    "season_id = epl.get_season_id()\n",
    "season_id"
   ]
  },
  {
   "cell_type": "markdown",
   "metadata": {},
   "source": [
    "## Club Data"
   ]
  },
  {
   "cell_type": "markdown",
   "metadata": {},
   "source": [
    "Similarly, we also need to get the club id to specify which club's data we need."
   ]
  },
  {
   "cell_type": "code",
   "execution_count": 4,
   "metadata": {},
   "outputs": [
    {
     "data": {
      "text/plain": [
       "[{'Name': 'Arsenal', 'Team ID': '1'},\n",
       " {'Name': 'Aston Villa', 'Team ID': '2'},\n",
       " {'Name': 'Bournemouth', 'Team ID': '127'},\n",
       " {'Name': 'Brentford', 'Team ID': '130'},\n",
       " {'Name': 'Brighton', 'Team ID': '131'},\n",
       " {'Name': 'Chelsea', 'Team ID': '4'},\n",
       " {'Name': 'Crystal Palace', 'Team ID': '6'},\n",
       " {'Name': 'Everton', 'Team ID': '7'},\n",
       " {'Name': 'Fulham', 'Team ID': '34'},\n",
       " {'Name': 'Ipswich', 'Team ID': '8'},\n",
       " {'Name': 'Leicester', 'Team ID': '26'},\n",
       " {'Name': 'Liverpool', 'Team ID': '10'},\n",
       " {'Name': 'Man City', 'Team ID': '11'},\n",
       " {'Name': 'Man Utd', 'Team ID': '12'},\n",
       " {'Name': 'Newcastle', 'Team ID': '23'},\n",
       " {'Name': \"Nott'm Forest\", 'Team ID': '15'},\n",
       " {'Name': 'Southampton', 'Team ID': '20'},\n",
       " {'Name': 'Spurs', 'Team ID': '21'},\n",
       " {'Name': 'West Ham', 'Team ID': '25'},\n",
       " {'Name': 'Wolves', 'Team ID': '38'}]"
      ]
     },
     "execution_count": 4,
     "metadata": {},
     "output_type": "execute_result"
    }
   ],
   "source": [
    "club_id_list = epl.get_club_ids(season_id)\n",
    "club_id_list"
   ]
  },
  {
   "cell_type": "markdown",
   "metadata": {},
   "source": [
    "As an alternative, you can specify ``output=\"df\"`` to return results as a pandas DataFrame instead of JSON.\n",
    "\n",
    "(Some other methods also have similar features!)"
   ]
  },
  {
   "cell_type": "code",
   "execution_count": 6,
   "metadata": {},
   "outputs": [
    {
     "data": {
      "text/html": [
       "<div>\n",
       "<style scoped>\n",
       "    .dataframe tbody tr th:only-of-type {\n",
       "        vertical-align: middle;\n",
       "    }\n",
       "\n",
       "    .dataframe tbody tr th {\n",
       "        vertical-align: top;\n",
       "    }\n",
       "\n",
       "    .dataframe thead th {\n",
       "        text-align: right;\n",
       "    }\n",
       "</style>\n",
       "<table border=\"1\" class=\"dataframe\">\n",
       "  <thead>\n",
       "    <tr style=\"text-align: right;\">\n",
       "      <th></th>\n",
       "      <th>Name</th>\n",
       "      <th>Team ID</th>\n",
       "    </tr>\n",
       "  </thead>\n",
       "  <tbody>\n",
       "    <tr>\n",
       "      <th>0</th>\n",
       "      <td>Arsenal</td>\n",
       "      <td>1</td>\n",
       "    </tr>\n",
       "    <tr>\n",
       "      <th>1</th>\n",
       "      <td>Aston Villa</td>\n",
       "      <td>2</td>\n",
       "    </tr>\n",
       "    <tr>\n",
       "      <th>2</th>\n",
       "      <td>Bournemouth</td>\n",
       "      <td>127</td>\n",
       "    </tr>\n",
       "    <tr>\n",
       "      <th>3</th>\n",
       "      <td>Brentford</td>\n",
       "      <td>130</td>\n",
       "    </tr>\n",
       "    <tr>\n",
       "      <th>4</th>\n",
       "      <td>Brighton</td>\n",
       "      <td>131</td>\n",
       "    </tr>\n",
       "    <tr>\n",
       "      <th>5</th>\n",
       "      <td>Chelsea</td>\n",
       "      <td>4</td>\n",
       "    </tr>\n",
       "    <tr>\n",
       "      <th>6</th>\n",
       "      <td>Crystal Palace</td>\n",
       "      <td>6</td>\n",
       "    </tr>\n",
       "    <tr>\n",
       "      <th>7</th>\n",
       "      <td>Everton</td>\n",
       "      <td>7</td>\n",
       "    </tr>\n",
       "    <tr>\n",
       "      <th>8</th>\n",
       "      <td>Fulham</td>\n",
       "      <td>34</td>\n",
       "    </tr>\n",
       "    <tr>\n",
       "      <th>9</th>\n",
       "      <td>Ipswich</td>\n",
       "      <td>8</td>\n",
       "    </tr>\n",
       "    <tr>\n",
       "      <th>10</th>\n",
       "      <td>Leicester</td>\n",
       "      <td>26</td>\n",
       "    </tr>\n",
       "    <tr>\n",
       "      <th>11</th>\n",
       "      <td>Liverpool</td>\n",
       "      <td>10</td>\n",
       "    </tr>\n",
       "    <tr>\n",
       "      <th>12</th>\n",
       "      <td>Man City</td>\n",
       "      <td>11</td>\n",
       "    </tr>\n",
       "    <tr>\n",
       "      <th>13</th>\n",
       "      <td>Man Utd</td>\n",
       "      <td>12</td>\n",
       "    </tr>\n",
       "    <tr>\n",
       "      <th>14</th>\n",
       "      <td>Newcastle</td>\n",
       "      <td>23</td>\n",
       "    </tr>\n",
       "    <tr>\n",
       "      <th>15</th>\n",
       "      <td>Nott'm Forest</td>\n",
       "      <td>15</td>\n",
       "    </tr>\n",
       "    <tr>\n",
       "      <th>16</th>\n",
       "      <td>Southampton</td>\n",
       "      <td>20</td>\n",
       "    </tr>\n",
       "    <tr>\n",
       "      <th>17</th>\n",
       "      <td>Spurs</td>\n",
       "      <td>21</td>\n",
       "    </tr>\n",
       "    <tr>\n",
       "      <th>18</th>\n",
       "      <td>West Ham</td>\n",
       "      <td>25</td>\n",
       "    </tr>\n",
       "    <tr>\n",
       "      <th>19</th>\n",
       "      <td>Wolves</td>\n",
       "      <td>38</td>\n",
       "    </tr>\n",
       "  </tbody>\n",
       "</table>\n",
       "</div>"
      ],
      "text/plain": [
       "              Name Team ID\n",
       "0          Arsenal       1\n",
       "1      Aston Villa       2\n",
       "2      Bournemouth     127\n",
       "3        Brentford     130\n",
       "4         Brighton     131\n",
       "5          Chelsea       4\n",
       "6   Crystal Palace       6\n",
       "7          Everton       7\n",
       "8           Fulham      34\n",
       "9          Ipswich       8\n",
       "10       Leicester      26\n",
       "11       Liverpool      10\n",
       "12        Man City      11\n",
       "13         Man Utd      12\n",
       "14       Newcastle      23\n",
       "15   Nott'm Forest      15\n",
       "16     Southampton      20\n",
       "17           Spurs      21\n",
       "18        West Ham      25\n",
       "19          Wolves      38"
      ]
     },
     "execution_count": 6,
     "metadata": {},
     "output_type": "execute_result"
    }
   ],
   "source": [
    "club_id_list = epl.get_club_ids(season_id, output=\"df\")\n",
    "club_id_list"
   ]
  },
  {
   "cell_type": "markdown",
   "metadata": {},
   "source": [
    "It is also possible to get details of all the teams in the Premier League by using ``club_incompseason()``, including abbreviations, cities, home stadiums and so on."
   ]
  },
  {
   "cell_type": "code",
   "execution_count": 5,
   "metadata": {},
   "outputs": [
    {
     "data": {
      "text/plain": [
       "[{'name': 'Arsenal',\n",
       "  'club': {'name': 'Arsenal', 'shortName': 'Arsenal', 'abbr': 'ARS', 'id': 1},\n",
       "  'teamType': 'FIRST',\n",
       "  'grounds': [{'name': 'Emirates Stadium',\n",
       "    'city': 'London',\n",
       "    'capacity': 60272,\n",
       "    'location': {'latitude': 51.5548, 'longitude': -0.108533},\n",
       "    'source': 'OPTA',\n",
       "    'id': 52}],\n",
       "  'shortName': 'Arsenal',\n",
       "  'id': 1},\n",
       " {'name': 'Aston Villa',\n",
       "  'club': {'name': 'Aston Villa',\n",
       "   'shortName': 'Aston Villa',\n",
       "   'abbr': 'AVL',\n",
       "   'id': 2},\n",
       "  'teamType': 'FIRST',\n",
       "  'grounds': [{'name': 'Villa Park',\n",
       "    'city': 'Birmingham',\n",
       "    'capacity': 42682,\n",
       "    'location': {'latitude': 52.5085, 'longitude': -1.88495},\n",
       "    'source': 'OPTA',\n",
       "    'id': 43}],\n",
       "  'shortName': 'Aston Villa',\n",
       "  'id': 2},\n",
       " {'name': 'Bournemouth',\n",
       "  'club': {'name': 'Bournemouth',\n",
       "   'shortName': 'Bournemouth',\n",
       "   'abbr': 'BOU',\n",
       "   'id': 127},\n",
       "  'teamType': 'FIRST',\n",
       "  'grounds': [{'name': 'Vitality Stadium',\n",
       "    'city': 'Bournemouth',\n",
       "    'capacity': 11464,\n",
       "    'location': {'latitude': 50.7349, 'longitude': -1.83899},\n",
       "    'source': 'OPTA',\n",
       "    'id': 914}],\n",
       "  'shortName': 'Bournemouth',\n",
       "  'id': 127},\n",
       " {'name': 'Brentford',\n",
       "  'club': {'name': 'Brentford',\n",
       "   'shortName': 'Brentford',\n",
       "   'abbr': 'BRE',\n",
       "   'id': 130},\n",
       "  'teamType': 'FIRST',\n",
       "  'grounds': [{'name': 'Gtech Community Stadium',\n",
       "    'city': 'Brentford',\n",
       "    'capacity': 17250,\n",
       "    'source': 'OPTA',\n",
       "    'id': 4003}],\n",
       "  'shortName': 'Brentford',\n",
       "  'id': 130},\n",
       " {'name': 'Brighton & Hove Albion',\n",
       "  'club': {'name': 'Brighton and Hove Albion',\n",
       "   'shortName': 'Brighton',\n",
       "   'abbr': 'BHA',\n",
       "   'id': 131},\n",
       "  'teamType': 'FIRST',\n",
       "  'grounds': [{'name': 'American Express Stadium',\n",
       "    'city': 'Falmer',\n",
       "    'capacity': 30750,\n",
       "    'location': {'latitude': 50.8606, 'longitude': -0.082237},\n",
       "    'source': 'OPTA',\n",
       "    'id': 7306}],\n",
       "  'shortName': 'Brighton',\n",
       "  'id': 131},\n",
       " {'name': 'Chelsea',\n",
       "  'club': {'name': 'Chelsea', 'shortName': 'Chelsea', 'abbr': 'CHE', 'id': 4},\n",
       "  'teamType': 'FIRST',\n",
       "  'grounds': [{'name': 'Stamford Bridge',\n",
       "    'city': 'London',\n",
       "    'capacity': 41798,\n",
       "    'location': {'latitude': 51.4816, 'longitude': -0.191016},\n",
       "    'source': 'OPTA',\n",
       "    'id': 30}],\n",
       "  'shortName': 'Chelsea',\n",
       "  'id': 4},\n",
       " {'name': 'Crystal Palace',\n",
       "  'club': {'name': 'Crystal Palace',\n",
       "   'shortName': 'Crystal Palace',\n",
       "   'abbr': 'CRY',\n",
       "   'id': 6},\n",
       "  'teamType': 'FIRST',\n",
       "  'grounds': [{'name': 'Selhurst Park',\n",
       "    'city': 'London',\n",
       "    'capacity': 25073,\n",
       "    'location': {'latitude': 51.3979, 'longitude': -0.085923},\n",
       "    'source': 'OPTA',\n",
       "    'id': 45}],\n",
       "  'shortName': 'Crystal Palace',\n",
       "  'id': 6},\n",
       " {'name': 'Everton',\n",
       "  'club': {'name': 'Everton', 'shortName': 'Everton', 'abbr': 'EVE', 'id': 7},\n",
       "  'teamType': 'FIRST',\n",
       "  'grounds': [{'name': 'Goodison Park',\n",
       "    'city': 'Liverpool',\n",
       "    'capacity': 39571,\n",
       "    'location': {'latitude': 53.4387, 'longitude': -2.96639},\n",
       "    'source': 'OPTA',\n",
       "    'id': 31}],\n",
       "  'shortName': 'Everton',\n",
       "  'id': 7},\n",
       " {'name': 'Fulham',\n",
       "  'club': {'name': 'Fulham', 'shortName': 'Fulham', 'abbr': 'FUL', 'id': 34},\n",
       "  'teamType': 'FIRST',\n",
       "  'grounds': [{'name': 'Craven Cottage',\n",
       "    'city': 'London',\n",
       "    'capacity': 25700,\n",
       "    'location': {'latitude': 51.4745, 'longitude': -0.220993},\n",
       "    'source': 'OPTA',\n",
       "    'id': 16}],\n",
       "  'shortName': 'Fulham',\n",
       "  'id': 34},\n",
       " {'name': 'Ipswich Town',\n",
       "  'club': {'name': 'Ipswich Town',\n",
       "   'shortName': 'Ipswich',\n",
       "   'abbr': 'IPS',\n",
       "   'id': 8},\n",
       "  'teamType': 'FIRST',\n",
       "  'grounds': [{'name': 'Portman Road',\n",
       "    'city': 'Ipswich',\n",
       "    'capacity': 30300,\n",
       "    'location': {'latitude': 52.0542, 'longitude': 1.14471},\n",
       "    'source': 'OPTA',\n",
       "    'id': 66}],\n",
       "  'shortName': 'Ipswich',\n",
       "  'id': 8},\n",
       " {'name': 'Leicester City',\n",
       "  'club': {'name': 'Leicester City',\n",
       "   'shortName': 'Leicester',\n",
       "   'abbr': 'LEI',\n",
       "   'id': 26},\n",
       "  'teamType': 'FIRST',\n",
       "  'grounds': [{'name': 'King Power Stadium',\n",
       "    'city': 'Leicester',\n",
       "    'capacity': 32312,\n",
       "    'location': {'latitude': 52.62, 'longitude': -1.1415},\n",
       "    'source': 'OPTA',\n",
       "    'id': 49}],\n",
       "  'shortName': 'Leicester',\n",
       "  'id': 26},\n",
       " {'name': 'Liverpool',\n",
       "  'club': {'name': 'Liverpool',\n",
       "   'shortName': 'Liverpool',\n",
       "   'abbr': 'LIV',\n",
       "   'id': 10},\n",
       "  'teamType': 'FIRST',\n",
       "  'grounds': [{'name': 'Anfield',\n",
       "    'city': 'Liverpool',\n",
       "    'capacity': 61276,\n",
       "    'location': {'latitude': 53.4313, 'longitude': -2.96158},\n",
       "    'source': 'OPTA',\n",
       "    'id': 7305}],\n",
       "  'shortName': 'Liverpool',\n",
       "  'id': 10},\n",
       " {'name': 'Manchester City',\n",
       "  'club': {'name': 'Manchester City',\n",
       "   'shortName': 'Man City',\n",
       "   'abbr': 'MCI',\n",
       "   'id': 11},\n",
       "  'teamType': 'FIRST',\n",
       "  'grounds': [{'name': 'Etihad Stadium',\n",
       "    'city': 'Manchester',\n",
       "    'capacity': 55000,\n",
       "    'location': {'latitude': 53.4832, 'longitude': -2.20042},\n",
       "    'source': 'OPTA',\n",
       "    'id': 457}],\n",
       "  'shortName': 'Man City',\n",
       "  'id': 11},\n",
       " {'name': 'Manchester United',\n",
       "  'club': {'name': 'Manchester United',\n",
       "   'shortName': 'Man Utd',\n",
       "   'abbr': 'MUN',\n",
       "   'id': 12},\n",
       "  'teamType': 'FIRST',\n",
       "  'grounds': [{'name': 'Old Trafford',\n",
       "    'city': 'Manchester',\n",
       "    'capacity': 75635,\n",
       "    'location': {'latitude': 53.4626, 'longitude': -2.29103},\n",
       "    'source': 'OPTA',\n",
       "    'id': 42}],\n",
       "  'shortName': 'Man Utd',\n",
       "  'id': 12},\n",
       " {'name': 'Newcastle United',\n",
       "  'club': {'name': 'Newcastle United',\n",
       "   'shortName': 'Newcastle',\n",
       "   'abbr': 'NEW',\n",
       "   'id': 23},\n",
       "  'teamType': 'FIRST',\n",
       "  'grounds': [{'name': \"St. James' Park\",\n",
       "    'city': 'Newcastle',\n",
       "    'capacity': 52405,\n",
       "    'location': {'latitude': 54.9752, 'longitude': -1.62235},\n",
       "    'source': 'OPTA',\n",
       "    'id': 27}],\n",
       "  'shortName': 'Newcastle',\n",
       "  'id': 23},\n",
       " {'name': 'Nottingham Forest',\n",
       "  'club': {'name': 'Nottingham Forest',\n",
       "   'shortName': \"Nott'm Forest\",\n",
       "   'abbr': 'NFO',\n",
       "   'id': 15},\n",
       "  'teamType': 'FIRST',\n",
       "  'grounds': [{'name': 'The City Ground',\n",
       "    'city': 'Nottingham',\n",
       "    'capacity': 30602,\n",
       "    'location': {'latitude': 52.9396, 'longitude': -1.13258},\n",
       "    'source': 'OPTA',\n",
       "    'id': 2548}],\n",
       "  'shortName': \"Nott'm Forest\",\n",
       "  'id': 15},\n",
       " {'name': 'Southampton',\n",
       "  'club': {'name': 'Southampton',\n",
       "   'shortName': 'Southampton',\n",
       "   'abbr': 'SOU',\n",
       "   'id': 20},\n",
       "  'teamType': 'FIRST',\n",
       "  'grounds': [{'name': \"St. Mary's Stadium\",\n",
       "    'city': 'Southampton',\n",
       "    'capacity': 32505,\n",
       "    'location': {'latitude': 50.9065, 'longitude': -1.39082},\n",
       "    'source': 'OPTA',\n",
       "    'id': 48}],\n",
       "  'shortName': 'Southampton',\n",
       "  'id': 20},\n",
       " {'name': 'Tottenham Hotspur',\n",
       "  'club': {'name': 'Tottenham Hotspur',\n",
       "   'shortName': 'Spurs',\n",
       "   'abbr': 'TOT',\n",
       "   'id': 21},\n",
       "  'teamType': 'FIRST',\n",
       "  'grounds': [{'name': 'Tottenham Hotspur Stadium',\n",
       "    'city': 'London',\n",
       "    'capacity': 62850,\n",
       "    'source': 'OPTA',\n",
       "    'id': 3921}],\n",
       "  'shortName': 'Spurs',\n",
       "  'id': 21},\n",
       " {'name': 'West Ham United',\n",
       "  'club': {'name': 'West Ham United',\n",
       "   'shortName': 'West Ham',\n",
       "   'abbr': 'WHU',\n",
       "   'id': 25},\n",
       "  'teamType': 'FIRST',\n",
       "  'grounds': [{'name': 'London Stadium',\n",
       "    'city': 'London',\n",
       "    'capacity': 62500,\n",
       "    'source': 'OPTA',\n",
       "    'id': 7662}],\n",
       "  'shortName': 'West Ham',\n",
       "  'id': 25},\n",
       " {'name': 'Wolverhampton Wanderers',\n",
       "  'club': {'name': 'Wolverhampton Wanderers',\n",
       "   'shortName': 'Wolves',\n",
       "   'abbr': 'WOL',\n",
       "   'id': 38},\n",
       "  'teamType': 'FIRST',\n",
       "  'grounds': [{'name': 'Molineux Stadium',\n",
       "    'city': 'Wolverhampton',\n",
       "    'capacity': 31500,\n",
       "    'location': {'latitude': 52.5904, 'longitude': -2.13077},\n",
       "    'source': 'OPTA',\n",
       "    'id': 913}],\n",
       "  'shortName': 'Wolves',\n",
       "  'id': 38}]"
      ]
     },
     "execution_count": 5,
     "metadata": {},
     "output_type": "execute_result"
    }
   ],
   "source": [
    "all_club = epl._get_clubs_in_season(season_id)\n",
    "all_club"
   ]
  },
  {
   "cell_type": "code",
   "execution_count": null,
   "metadata": {},
   "outputs": [],
   "source": [
    "club_table = epl.get_club_table(season_id,10)\n",
    "club_table"
   ]
  },
  {
   "cell_type": "markdown",
   "metadata": {},
   "source": [
    "Once we have the id information, we can use ``club_info()`` to extract information about the specified team. This method will be more detailed than ``club_incompseason()``, including some information about the training ground and youth team."
   ]
  },
  {
   "cell_type": "code",
   "execution_count": null,
   "metadata": {},
   "outputs": [],
   "source": [
    "liverpool_id = 10 # We already have this by calling club_id() above\n",
    "liverpool_info = epl.club_info(liverpool_id)\n",
    "liverpool_info"
   ]
  },
  {
   "cell_type": "markdown",
   "metadata": {},
   "source": [
    "Next, we can also look at the performance of clubs based on specific data types. By calling ``club_all_stat_types()`` , we can see what kind of data is available."
   ]
  },
  {
   "cell_type": "code",
   "execution_count": null,
   "metadata": {},
   "outputs": [],
   "source": [
    "club_stats_type = epl.club_rankings_list_stat_types()\n",
    "club_stats_type"
   ]
  },
  {
   "cell_type": "markdown",
   "metadata": {},
   "source": [
    "As an example, we can plot a chart to check which teams excel in counterattacking performances base on the data we get by calling ``club_rankings()``."
   ]
  },
  {
   "cell_type": "code",
   "execution_count": null,
   "metadata": {},
   "outputs": [],
   "source": [
    "# # If you haven't installed matplotlib yet, run this cell:\n",
    "# %pip install matplotlib"
   ]
  },
  {
   "cell_type": "code",
   "execution_count": 7,
   "metadata": {},
   "outputs": [
    {
     "data": {
      "image/png": "[encoded data removed]",
      "text/plain": [
       "<Figure size 1200x600 with 1 Axes>"
      ]
     },
     "metadata": {},
     "output_type": "display_data"
    }
   ],
   "source": [
    "import matplotlib.pyplot as plt\n",
    "\n",
    "counter_attack = epl.get_club_rankings(\"goal_fastbreak\", season_id,\"df\")\n",
    "top10 = counter_attack.head(10).sort_values(by=\"Stat\", ascending=False)\n",
    "\n",
    "plt.figure(figsize=(12, 6))\n",
    "top10.plot(\n",
    "    x=\"Club\", \n",
    "    y=\"Stat\", \n",
    "    kind=\"bar\", \n",
    "    title=\"Goals From Counter Attack\", \n",
    "    legend=False,\n",
    "    ax=plt.gca()\n",
    ")\n",
    "\n",
    "plt.xticks(rotation=45, ha='right')\n",
    "plt.ylabel(\"Goals\")\n",
    "\n",
    "for i, val in enumerate(top10[\"Stat\"]):\n",
    "    plt.text(i, val + 0.2, int(val), ha='center', va='bottom', fontsize=9)"
   ]
  },
  {
   "cell_type": "markdown",
   "metadata": {},
   "source": [
    "Besides, we can use ``club_stats()`` in case we want to study the data of a specific club."
   ]
  },
  {
   "cell_type": "code",
   "execution_count": null,
   "metadata": {},
   "outputs": [],
   "source": [
    "all_data = epl.club_stats(club_id=liverpool_id, season_id=season_id)\n",
    "all_data"
   ]
  },
  {
   "cell_type": "markdown",
   "metadata": {},
   "source": [
    "``club_stats()`` also supports specifying specific data types. We can get all the callable fields with ``club_stats_list_stat_types()``."
   ]
  },
  {
   "cell_type": "code",
   "execution_count": null,
   "metadata": {},
   "outputs": [],
   "source": [
    "# This dictionary is collated by LLM and does not ensure that all fields are valid\n",
    "club_single_all_stat_types = epl.club_stats_list_stat_types()\n",
    "club_single_all_stat_types"
   ]
  },
  {
   "cell_type": "code",
   "execution_count": null,
   "metadata": {},
   "outputs": [],
   "source": [
    "fields = [\n",
    "    'gameweek', 'wins', 'losses', 'draws', 'goals',\n",
    "    'total_scoring_att', 'big_chance_created', 'big_chance_missed'\n",
    "]\n",
    "stats = {field: epl.club_stats(liverpool_id, season_id, stat_type=field) for field in fields}\n",
    "df_club_stats = pd.DataFrame([stats])\n",
    "df_club_stats"
   ]
  },
  {
   "cell_type": "markdown",
   "metadata": {},
   "source": [
    "## Player Data"
   ]
  },
  {
   "cell_type": "markdown",
   "metadata": {},
   "source": [
    "There is a wealth of statistics about players, and we can use ``player_rankings_list_stat_types()`` to see what data has been recorded."
   ]
  },
  {
   "cell_type": "code",
   "execution_count": null,
   "metadata": {},
   "outputs": [],
   "source": [
    "# This dictionary is collated by LLM and does not ensure that all fields are valid\n",
    "player_stat_types = epl.player_rankings_list_stat_types()\n",
    "player_stat_types"
   ]
  },
  {
   "cell_type": "markdown",
   "metadata": {},
   "source": [
    "Once the ``stat_type`` is clear, we can use ``player_rankings()`` to quickly generate player rankings on a particular metric."
   ]
  },
  {
   "cell_type": "code",
   "execution_count": null,
   "metadata": {},
   "outputs": [],
   "source": [
    "goals_ranking = epl.player_rankings(\"goals\", season_id, output=\"df\")\n",
    "goals_ranking.head(10)"
   ]
  },
  {
   "cell_type": "code",
   "execution_count": null,
   "metadata": {},
   "outputs": [],
   "source": [
    "big_chance_created = epl.player_rankings(\"att_hd_goal\", season_id, output=\"df\")\n",
    "big_chance_created.head(10)"
   ]
  },
  {
   "cell_type": "code",
   "execution_count": null,
   "metadata": {},
   "outputs": [],
   "source": [
    "clean_sheet = epl.player_rankings(\"clean_sheet\", season_id, output=\"df\")\n",
    "clean_sheet.head(10).plot(x=\"Player\", y=\"Stat\", kind=\"barh\", title=\"Clean Sheet Ranking\")\n",
    "plt.gca().invert_yaxis()"
   ]
  },
  {
   "cell_type": "markdown",
   "metadata": {},
   "source": [
    "But how do we get more detailed data about individual? \n",
    "\n",
    "Still the same, we need to specify the ID of the player first. We can use ``player_search_by_name()`` to find a player (or players)."
   ]
  },
  {
   "cell_type": "code",
   "execution_count": null,
   "metadata": {},
   "outputs": [],
   "source": [
    "search_result_1 = epl.player_search_by_name(\"Kerkez\", season_id,\"df\")\n",
    "search_result_1"
   ]
  },
  {
   "cell_type": "markdown",
   "metadata": {},
   "source": [
    "What if the search term is a more popular name?"
   ]
  },
  {
   "cell_type": "code",
   "execution_count": null,
   "metadata": {},
   "outputs": [],
   "source": [
    "search_result_2 = epl.player_search_by_name(\"James\", season_id,\"df\")\n",
    "search_result_2"
   ]
  },
  {
   "cell_type": "markdown",
   "metadata": {},
   "source": [
    "As you can see, this method does not require the player's full name. Even if we're not sure of the player's full name, it can still be confirmed by current team or nationality."
   ]
  },
  {
   "cell_type": "markdown",
   "metadata": {},
   "source": [
    "We can also use ``player_id()`` to get the data quickly if you can remember the player's name. However, it is recommended to enter the full name of the player to avoid confusion."
   ]
  },
  {
   "cell_type": "code",
   "execution_count": null,
   "metadata": {},
   "outputs": [],
   "source": [
    "mo_id = epl.player_id(\"Mohamed Salah\",season_id)\n",
    "mo_id"
   ]
  },
  {
   "cell_type": "markdown",
   "metadata": {},
   "source": [
    "Afterwards, we can use ``player_info()`` to get the details of the specified player."
   ]
  },
  {
   "cell_type": "code",
   "execution_count": null,
   "metadata": {},
   "outputs": [],
   "source": [
    "mo_stats = epl.player_stats(mo_id, season_id)\n",
    "mo_stats"
   ]
  },
  {
   "cell_type": "code",
   "execution_count": null,
   "metadata": {},
   "outputs": [],
   "source": [
    "# Some data clean-up\n",
    "entity = mo_stats['entity']\n",
    "stats_list = mo_stats['stats']\n",
    "\n",
    "stats_dict = {stat['name']: stat['value'] for stat in stats_list}\n",
    "\n",
    "player_summary = {\n",
    "    \"name\": entity['name']['display'],\n",
    "    \"position\": entity['info']['position'],\n",
    "    \"shirt number\": entity['info'].get('shirtNum'),\n",
    "    \"age\": entity.get('age'),\n",
    "    \"appearances\": stats_dict.get('appearances'),\n",
    "    \"goals\": stats_dict.get('goals'),\n",
    "    \"goal assist\": stats_dict.get('goal_assist')\n",
    "}\n",
    "\n",
    "df_player = pd.DataFrame([player_summary])\n",
    "df_player"
   ]
  }
 ],
 "metadata": {
  "kernelspec": {
   "display_name": "epltest",
   "language": "python",
   "name": "python3"
  },
  "language_info": {
   "codemirror_mode": {
    "name": "ipython",
    "version": 3
   },
   "file_extension": ".py",
   "mimetype": "text/x-python",
   "name": "python",
   "nbconvert_exporter": "python",
   "pygments_lexer": "ipython3",
   "version": "3.10.16"
  }
 },
 "nbformat": 4,
 "nbformat_minor": 2
}
